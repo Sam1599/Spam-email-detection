{
 "cells": [
  {
   "cell_type": "markdown",
   "id": "b1cb3436",
   "metadata": {},
   "source": [
    "### Import necessary libraries and analyse the data"
   ]
  },
  {
   "cell_type": "code",
   "execution_count": 45,
   "id": "d2388205",
   "metadata": {},
   "outputs": [
    {
     "name": "stderr",
     "output_type": "stream",
     "text": [
      "[nltk_data] Downloading package stopwords to\n",
      "[nltk_data]     C:\\Users\\samyu\\AppData\\Roaming\\nltk_data...\n",
      "[nltk_data]   Package stopwords is already up-to-date!\n",
      "[nltk_data] Downloading package wordnet to\n",
      "[nltk_data]     C:\\Users\\samyu\\AppData\\Roaming\\nltk_data...\n",
      "[nltk_data]   Package wordnet is already up-to-date!\n",
      "[nltk_data] Downloading package punkt to\n",
      "[nltk_data]     C:\\Users\\samyu\\AppData\\Roaming\\nltk_data...\n",
      "[nltk_data]   Package punkt is already up-to-date!\n",
      "[nltk_data] Downloading package omw-1.4 to\n",
      "[nltk_data]     C:\\Users\\samyu\\AppData\\Roaming\\nltk_data...\n",
      "[nltk_data]   Package omw-1.4 is already up-to-date!\n",
      "[nltk_data] Downloading package averaged_perceptron_tagger to\n",
      "[nltk_data]     C:\\Users\\samyu\\AppData\\Roaming\\nltk_data...\n",
      "[nltk_data]   Package averaged_perceptron_tagger is already up-to-\n",
      "[nltk_data]       date!\n"
     ]
    }
   ],
   "source": [
    "import pandas as pd\n",
    "import numpy as np\n",
    "import seaborn as sns\n",
    "import matplotlib.pyplot as plt\n",
    "import nltk\n",
    "from wordcloud import WordCloud\n",
    "from string import punctuation\n",
    "from random import shuffle\n",
    "from collections import Counter\n",
    "import multiprocessing\n",
    "import email\n",
    "\n",
    "\n",
    "import sklearn as sk\n",
    "\n",
    "from nltk.corpus import stopwords\n",
    "nltk.download('stopwords')\n",
    "nltk.download('wordnet')\n",
    "nltk.download('punkt')\n",
    "nltk.download('omw-1.4')\n",
    "nltk.download('averaged_perceptron_tagger')\n",
    "%matplotlib inline"
   ]
  },
  {
   "cell_type": "code",
   "execution_count": 46,
   "id": "1967e3f7",
   "metadata": {},
   "outputs": [],
   "source": [
    "from sklearn.naive_bayes import GaussianNB\n",
    "from sklearn.preprocessing import StandardScaler\n",
    "from sklearn.model_selection import train_test_split\n",
    "from sklearn.metrics import classification_report, confusion_matrix, accuracy_score \n",
    "import time"
   ]
  },
  {
   "cell_type": "code",
   "execution_count": 47,
   "id": "7d1a6c60",
   "metadata": {},
   "outputs": [
    {
     "data": {
      "text/html": [
       "<div>\n",
       "<style scoped>\n",
       "    .dataframe tbody tr th:only-of-type {\n",
       "        vertical-align: middle;\n",
       "    }\n",
       "\n",
       "    .dataframe tbody tr th {\n",
       "        vertical-align: top;\n",
       "    }\n",
       "\n",
       "    .dataframe thead th {\n",
       "        text-align: right;\n",
       "    }\n",
       "</style>\n",
       "<table border=\"1\" class=\"dataframe\">\n",
       "  <thead>\n",
       "    <tr style=\"text-align: right;\">\n",
       "      <th></th>\n",
       "      <th>Unnamed: 0</th>\n",
       "      <th>label</th>\n",
       "      <th>text</th>\n",
       "      <th>label_num</th>\n",
       "    </tr>\n",
       "  </thead>\n",
       "  <tbody>\n",
       "    <tr>\n",
       "      <th>0</th>\n",
       "      <td>605</td>\n",
       "      <td>ham</td>\n",
       "      <td>Subject: enron methanol ; meter # : 988291\\r\\n...</td>\n",
       "      <td>0</td>\n",
       "    </tr>\n",
       "    <tr>\n",
       "      <th>1</th>\n",
       "      <td>2349</td>\n",
       "      <td>ham</td>\n",
       "      <td>Subject: hpl nom for january 9 , 2001\\r\\n( see...</td>\n",
       "      <td>0</td>\n",
       "    </tr>\n",
       "    <tr>\n",
       "      <th>2</th>\n",
       "      <td>3624</td>\n",
       "      <td>ham</td>\n",
       "      <td>Subject: neon retreat\\r\\nho ho ho , we ' re ar...</td>\n",
       "      <td>0</td>\n",
       "    </tr>\n",
       "    <tr>\n",
       "      <th>3</th>\n",
       "      <td>4685</td>\n",
       "      <td>spam</td>\n",
       "      <td>Subject: photoshop , windows , office . cheap ...</td>\n",
       "      <td>1</td>\n",
       "    </tr>\n",
       "    <tr>\n",
       "      <th>4</th>\n",
       "      <td>2030</td>\n",
       "      <td>ham</td>\n",
       "      <td>Subject: re : indian springs\\r\\nthis deal is t...</td>\n",
       "      <td>0</td>\n",
       "    </tr>\n",
       "  </tbody>\n",
       "</table>\n",
       "</div>"
      ],
      "text/plain": [
       "   Unnamed: 0 label                                               text  \\\n",
       "0         605   ham  Subject: enron methanol ; meter # : 988291\\r\\n...   \n",
       "1        2349   ham  Subject: hpl nom for january 9 , 2001\\r\\n( see...   \n",
       "2        3624   ham  Subject: neon retreat\\r\\nho ho ho , we ' re ar...   \n",
       "3        4685  spam  Subject: photoshop , windows , office . cheap ...   \n",
       "4        2030   ham  Subject: re : indian springs\\r\\nthis deal is t...   \n",
       "\n",
       "   label_num  \n",
       "0          0  \n",
       "1          0  \n",
       "2          0  \n",
       "3          1  \n",
       "4          0  "
      ]
     },
     "execution_count": 47,
     "metadata": {},
     "output_type": "execute_result"
    }
   ],
   "source": [
    "data=pd.read_csv(r\"C:\\Users\\samyu\\Downloads\\spam_ham_dataset.csv\")\n",
    "data.head()"
   ]
  },
  {
   "cell_type": "code",
   "execution_count": 48,
   "id": "a037c115",
   "metadata": {},
   "outputs": [
    {
     "name": "stdout",
     "output_type": "stream",
     "text": [
      "Count of spam emails: 1499\n"
     ]
    }
   ],
   "source": [
    "print(\"Count of spam emails:\",data['label'].value_counts()['spam'])"
   ]
  },
  {
   "cell_type": "code",
   "execution_count": 49,
   "id": "8739b0fc",
   "metadata": {},
   "outputs": [
    {
     "name": "stdout",
     "output_type": "stream",
     "text": [
      "Count of ham emails: 3672\n"
     ]
    }
   ],
   "source": [
    "print(\"Count of ham emails:\",data['label'].value_counts()['ham'])"
   ]
  },
  {
   "cell_type": "code",
   "execution_count": 50,
   "id": "9480b978",
   "metadata": {},
   "outputs": [
    {
     "data": {
      "text/plain": [
       "(5171, 4)"
      ]
     },
     "execution_count": 50,
     "metadata": {},
     "output_type": "execute_result"
    }
   ],
   "source": [
    "data.shape"
   ]
  },
  {
   "cell_type": "code",
   "execution_count": 51,
   "id": "15f53aa6",
   "metadata": {},
   "outputs": [
    {
     "data": {
      "text/plain": [
       "Index(['Unnamed: 0', 'label', 'text', 'label_num'], dtype='object')"
      ]
     },
     "execution_count": 51,
     "metadata": {},
     "output_type": "execute_result"
    }
   ],
   "source": [
    "data.columns"
   ]
  },
  {
   "cell_type": "code",
   "execution_count": 52,
   "id": "0ddb1a50",
   "metadata": {},
   "outputs": [
    {
     "data": {
      "text/plain": [
       "0       Subject: enron methanol ; meter # : 988291\\r\\n...\n",
       "1       Subject: hpl nom for january 9 , 2001\\r\\n( see...\n",
       "2       Subject: neon retreat\\r\\nho ho ho , we ' re ar...\n",
       "3       Subject: photoshop , windows , office . cheap ...\n",
       "4       Subject: re : indian springs\\r\\nthis deal is t...\n",
       "                              ...                        \n",
       "5166    Subject: put the 10 on the ft\\r\\nthe transport...\n",
       "5167    Subject: 3 / 4 / 2000 and following noms\\r\\nhp...\n",
       "5168    Subject: calpine daily gas nomination\\r\\n>\\r\\n...\n",
       "5169    Subject: industrial worksheets for august 2000...\n",
       "5170    Subject: important online banking alert\\r\\ndea...\n",
       "Name: text, Length: 5171, dtype: object"
      ]
     },
     "execution_count": 52,
     "metadata": {},
     "output_type": "execute_result"
    }
   ],
   "source": [
    "text=data['text']\n",
    "text"
   ]
  },
  {
   "cell_type": "markdown",
   "id": "35c70056",
   "metadata": {},
   "source": [
    "## Data Preprocessing\n",
    " Since the data is in raw form, the data is cleaned and transformed to a format that is suitable for analysis or model training"
   ]
  },
  {
   "cell_type": "markdown",
   "id": "7d911b23",
   "metadata": {},
   "source": [
    "## Removing Punctuations"
   ]
  },
  {
   "cell_type": "code",
   "execution_count": 53,
   "id": "1a89218f",
   "metadata": {},
   "outputs": [
    {
     "data": {
      "text/plain": [
       "'!\"#$%&\\'()*+,-./:;<=>?@[\\\\]^_`{|}~'"
      ]
     },
     "execution_count": 53,
     "metadata": {},
     "output_type": "execute_result"
    }
   ],
   "source": [
    "import string\n",
    "string.punctuation"
   ]
  },
  {
   "cell_type": "code",
   "execution_count": 54,
   "id": "6f307c8d",
   "metadata": {},
   "outputs": [
    {
     "data": {
      "text/html": [
       "<div>\n",
       "<style scoped>\n",
       "    .dataframe tbody tr th:only-of-type {\n",
       "        vertical-align: middle;\n",
       "    }\n",
       "\n",
       "    .dataframe tbody tr th {\n",
       "        vertical-align: top;\n",
       "    }\n",
       "\n",
       "    .dataframe thead th {\n",
       "        text-align: right;\n",
       "    }\n",
       "</style>\n",
       "<table border=\"1\" class=\"dataframe\">\n",
       "  <thead>\n",
       "    <tr style=\"text-align: right;\">\n",
       "      <th></th>\n",
       "      <th>Unnamed: 0</th>\n",
       "      <th>label</th>\n",
       "      <th>text</th>\n",
       "      <th>label_num</th>\n",
       "      <th>body_text_clean</th>\n",
       "    </tr>\n",
       "  </thead>\n",
       "  <tbody>\n",
       "    <tr>\n",
       "      <th>0</th>\n",
       "      <td>605</td>\n",
       "      <td>ham</td>\n",
       "      <td>Subject: enron methanol ; meter # : 988291\\r\\n...</td>\n",
       "      <td>0</td>\n",
       "      <td>Subject enron methanol  meter   988291\\r\\nthis...</td>\n",
       "    </tr>\n",
       "    <tr>\n",
       "      <th>1</th>\n",
       "      <td>2349</td>\n",
       "      <td>ham</td>\n",
       "      <td>Subject: hpl nom for january 9 , 2001\\r\\n( see...</td>\n",
       "      <td>0</td>\n",
       "      <td>Subject hpl nom for january 9  2001\\r\\n see at...</td>\n",
       "    </tr>\n",
       "    <tr>\n",
       "      <th>2</th>\n",
       "      <td>3624</td>\n",
       "      <td>ham</td>\n",
       "      <td>Subject: neon retreat\\r\\nho ho ho , we ' re ar...</td>\n",
       "      <td>0</td>\n",
       "      <td>Subject neon retreat\\r\\nho ho ho  we  re aroun...</td>\n",
       "    </tr>\n",
       "    <tr>\n",
       "      <th>3</th>\n",
       "      <td>4685</td>\n",
       "      <td>spam</td>\n",
       "      <td>Subject: photoshop , windows , office . cheap ...</td>\n",
       "      <td>1</td>\n",
       "      <td>Subject photoshop  windows  office  cheap  mai...</td>\n",
       "    </tr>\n",
       "    <tr>\n",
       "      <th>4</th>\n",
       "      <td>2030</td>\n",
       "      <td>ham</td>\n",
       "      <td>Subject: re : indian springs\\r\\nthis deal is t...</td>\n",
       "      <td>0</td>\n",
       "      <td>Subject re  indian springs\\r\\nthis deal is to ...</td>\n",
       "    </tr>\n",
       "  </tbody>\n",
       "</table>\n",
       "</div>"
      ],
      "text/plain": [
       "   Unnamed: 0 label                                               text  \\\n",
       "0         605   ham  Subject: enron methanol ; meter # : 988291\\r\\n...   \n",
       "1        2349   ham  Subject: hpl nom for january 9 , 2001\\r\\n( see...   \n",
       "2        3624   ham  Subject: neon retreat\\r\\nho ho ho , we ' re ar...   \n",
       "3        4685  spam  Subject: photoshop , windows , office . cheap ...   \n",
       "4        2030   ham  Subject: re : indian springs\\r\\nthis deal is t...   \n",
       "\n",
       "   label_num                                    body_text_clean  \n",
       "0          0  Subject enron methanol  meter   988291\\r\\nthis...  \n",
       "1          0  Subject hpl nom for january 9  2001\\r\\n see at...  \n",
       "2          0  Subject neon retreat\\r\\nho ho ho  we  re aroun...  \n",
       "3          1  Subject photoshop  windows  office  cheap  mai...  \n",
       "4          0  Subject re  indian springs\\r\\nthis deal is to ...  "
      ]
     },
     "execution_count": 54,
     "metadata": {},
     "output_type": "execute_result"
    }
   ],
   "source": [
    "def remove_punc(text):\n",
    "    nonP_text = \"\".join([char for char in text if char not in string.punctuation])\n",
    "    return nonP_text\n",
    "\n",
    "data[\"body_text_clean\"] = data[\"text\"].apply(lambda x: remove_punc(x))\n",
    "\n",
    "data.head()"
   ]
  },
  {
   "cell_type": "markdown",
   "id": "a9d656d4",
   "metadata": {},
   "source": [
    "## Tokenization"
   ]
  },
  {
   "cell_type": "code",
   "execution_count": 55,
   "id": "d842a1bc",
   "metadata": {},
   "outputs": [
    {
     "data": {
      "text/html": [
       "<div>\n",
       "<style scoped>\n",
       "    .dataframe tbody tr th:only-of-type {\n",
       "        vertical-align: middle;\n",
       "    }\n",
       "\n",
       "    .dataframe tbody tr th {\n",
       "        vertical-align: top;\n",
       "    }\n",
       "\n",
       "    .dataframe thead th {\n",
       "        text-align: right;\n",
       "    }\n",
       "</style>\n",
       "<table border=\"1\" class=\"dataframe\">\n",
       "  <thead>\n",
       "    <tr style=\"text-align: right;\">\n",
       "      <th></th>\n",
       "      <th>Unnamed: 0</th>\n",
       "      <th>label</th>\n",
       "      <th>text</th>\n",
       "      <th>label_num</th>\n",
       "      <th>body_text_clean</th>\n",
       "      <th>body_text_tokenized</th>\n",
       "    </tr>\n",
       "  </thead>\n",
       "  <tbody>\n",
       "    <tr>\n",
       "      <th>0</th>\n",
       "      <td>605</td>\n",
       "      <td>ham</td>\n",
       "      <td>Subject: enron methanol ; meter # : 988291\\r\\n...</td>\n",
       "      <td>0</td>\n",
       "      <td>Subject enron methanol  meter   988291\\r\\nthis...</td>\n",
       "      <td>[Subject, enron, methanol, meter, 988291, this...</td>\n",
       "    </tr>\n",
       "    <tr>\n",
       "      <th>1</th>\n",
       "      <td>2349</td>\n",
       "      <td>ham</td>\n",
       "      <td>Subject: hpl nom for january 9 , 2001\\r\\n( see...</td>\n",
       "      <td>0</td>\n",
       "      <td>Subject hpl nom for january 9  2001\\r\\n see at...</td>\n",
       "      <td>[Subject, hpl, nom, for, january, 9, 2001, see...</td>\n",
       "    </tr>\n",
       "    <tr>\n",
       "      <th>2</th>\n",
       "      <td>3624</td>\n",
       "      <td>ham</td>\n",
       "      <td>Subject: neon retreat\\r\\nho ho ho , we ' re ar...</td>\n",
       "      <td>0</td>\n",
       "      <td>Subject neon retreat\\r\\nho ho ho  we  re aroun...</td>\n",
       "      <td>[Subject, neon, retreat, ho, ho, ho, we, re, a...</td>\n",
       "    </tr>\n",
       "    <tr>\n",
       "      <th>3</th>\n",
       "      <td>4685</td>\n",
       "      <td>spam</td>\n",
       "      <td>Subject: photoshop , windows , office . cheap ...</td>\n",
       "      <td>1</td>\n",
       "      <td>Subject photoshop  windows  office  cheap  mai...</td>\n",
       "      <td>[Subject, photoshop, windows, office, cheap, m...</td>\n",
       "    </tr>\n",
       "    <tr>\n",
       "      <th>4</th>\n",
       "      <td>2030</td>\n",
       "      <td>ham</td>\n",
       "      <td>Subject: re : indian springs\\r\\nthis deal is t...</td>\n",
       "      <td>0</td>\n",
       "      <td>Subject re  indian springs\\r\\nthis deal is to ...</td>\n",
       "      <td>[Subject, re, indian, springs, this, deal, is,...</td>\n",
       "    </tr>\n",
       "  </tbody>\n",
       "</table>\n",
       "</div>"
      ],
      "text/plain": [
       "   Unnamed: 0 label                                               text  \\\n",
       "0         605   ham  Subject: enron methanol ; meter # : 988291\\r\\n...   \n",
       "1        2349   ham  Subject: hpl nom for january 9 , 2001\\r\\n( see...   \n",
       "2        3624   ham  Subject: neon retreat\\r\\nho ho ho , we ' re ar...   \n",
       "3        4685  spam  Subject: photoshop , windows , office . cheap ...   \n",
       "4        2030   ham  Subject: re : indian springs\\r\\nthis deal is t...   \n",
       "\n",
       "   label_num                                    body_text_clean  \\\n",
       "0          0  Subject enron methanol  meter   988291\\r\\nthis...   \n",
       "1          0  Subject hpl nom for january 9  2001\\r\\n see at...   \n",
       "2          0  Subject neon retreat\\r\\nho ho ho  we  re aroun...   \n",
       "3          1  Subject photoshop  windows  office  cheap  mai...   \n",
       "4          0  Subject re  indian springs\\r\\nthis deal is to ...   \n",
       "\n",
       "                                 body_text_tokenized  \n",
       "0  [Subject, enron, methanol, meter, 988291, this...  \n",
       "1  [Subject, hpl, nom, for, january, 9, 2001, see...  \n",
       "2  [Subject, neon, retreat, ho, ho, ho, we, re, a...  \n",
       "3  [Subject, photoshop, windows, office, cheap, m...  \n",
       "4  [Subject, re, indian, springs, this, deal, is,...  "
      ]
     },
     "execution_count": 55,
     "metadata": {},
     "output_type": "execute_result"
    }
   ],
   "source": [
    "import re\n",
    "\n",
    "def tokenize(text):\n",
    "    tokens = re.split(\"\\W+\", text)\n",
    "    return tokens\n",
    "\n",
    "data[\"body_text_tokenized\"] = data[\"body_text_clean\"].apply(lambda x: tokenize(x))\n",
    "\n",
    "data.head()"
   ]
  },
  {
   "cell_type": "markdown",
   "id": "76366e6d",
   "metadata": {},
   "source": [
    "## Removing Stopwords"
   ]
  },
  {
   "cell_type": "code",
   "execution_count": 56,
   "id": "2777171a",
   "metadata": {},
   "outputs": [
    {
     "data": {
      "text/html": [
       "<div>\n",
       "<style scoped>\n",
       "    .dataframe tbody tr th:only-of-type {\n",
       "        vertical-align: middle;\n",
       "    }\n",
       "\n",
       "    .dataframe tbody tr th {\n",
       "        vertical-align: top;\n",
       "    }\n",
       "\n",
       "    .dataframe thead th {\n",
       "        text-align: right;\n",
       "    }\n",
       "</style>\n",
       "<table border=\"1\" class=\"dataframe\">\n",
       "  <thead>\n",
       "    <tr style=\"text-align: right;\">\n",
       "      <th></th>\n",
       "      <th>Unnamed: 0</th>\n",
       "      <th>label</th>\n",
       "      <th>text</th>\n",
       "      <th>label_num</th>\n",
       "      <th>body_text_clean</th>\n",
       "      <th>body_text_tokenized</th>\n",
       "      <th>body_text_nonstop</th>\n",
       "    </tr>\n",
       "  </thead>\n",
       "  <tbody>\n",
       "    <tr>\n",
       "      <th>0</th>\n",
       "      <td>605</td>\n",
       "      <td>ham</td>\n",
       "      <td>Subject: enron methanol ; meter # : 988291\\r\\n...</td>\n",
       "      <td>0</td>\n",
       "      <td>Subject enron methanol  meter   988291\\r\\nthis...</td>\n",
       "      <td>[Subject, enron, methanol, meter, 988291, this...</td>\n",
       "      <td>[Subject, enron, methanol, meter, 988291, foll...</td>\n",
       "    </tr>\n",
       "    <tr>\n",
       "      <th>1</th>\n",
       "      <td>2349</td>\n",
       "      <td>ham</td>\n",
       "      <td>Subject: hpl nom for january 9 , 2001\\r\\n( see...</td>\n",
       "      <td>0</td>\n",
       "      <td>Subject hpl nom for january 9  2001\\r\\n see at...</td>\n",
       "      <td>[Subject, hpl, nom, for, january, 9, 2001, see...</td>\n",
       "      <td>[Subject, hpl, nom, january, 9, 2001, see, att...</td>\n",
       "    </tr>\n",
       "    <tr>\n",
       "      <th>2</th>\n",
       "      <td>3624</td>\n",
       "      <td>ham</td>\n",
       "      <td>Subject: neon retreat\\r\\nho ho ho , we ' re ar...</td>\n",
       "      <td>0</td>\n",
       "      <td>Subject neon retreat\\r\\nho ho ho  we  re aroun...</td>\n",
       "      <td>[Subject, neon, retreat, ho, ho, ho, we, re, a...</td>\n",
       "      <td>[Subject, neon, retreat, ho, ho, ho, around, w...</td>\n",
       "    </tr>\n",
       "    <tr>\n",
       "      <th>3</th>\n",
       "      <td>4685</td>\n",
       "      <td>spam</td>\n",
       "      <td>Subject: photoshop , windows , office . cheap ...</td>\n",
       "      <td>1</td>\n",
       "      <td>Subject photoshop  windows  office  cheap  mai...</td>\n",
       "      <td>[Subject, photoshop, windows, office, cheap, m...</td>\n",
       "      <td>[Subject, photoshop, windows, office, cheap, m...</td>\n",
       "    </tr>\n",
       "    <tr>\n",
       "      <th>4</th>\n",
       "      <td>2030</td>\n",
       "      <td>ham</td>\n",
       "      <td>Subject: re : indian springs\\r\\nthis deal is t...</td>\n",
       "      <td>0</td>\n",
       "      <td>Subject re  indian springs\\r\\nthis deal is to ...</td>\n",
       "      <td>[Subject, re, indian, springs, this, deal, is,...</td>\n",
       "      <td>[Subject, indian, springs, deal, book, teco, p...</td>\n",
       "    </tr>\n",
       "  </tbody>\n",
       "</table>\n",
       "</div>"
      ],
      "text/plain": [
       "   Unnamed: 0 label                                               text  \\\n",
       "0         605   ham  Subject: enron methanol ; meter # : 988291\\r\\n...   \n",
       "1        2349   ham  Subject: hpl nom for january 9 , 2001\\r\\n( see...   \n",
       "2        3624   ham  Subject: neon retreat\\r\\nho ho ho , we ' re ar...   \n",
       "3        4685  spam  Subject: photoshop , windows , office . cheap ...   \n",
       "4        2030   ham  Subject: re : indian springs\\r\\nthis deal is t...   \n",
       "\n",
       "   label_num                                    body_text_clean  \\\n",
       "0          0  Subject enron methanol  meter   988291\\r\\nthis...   \n",
       "1          0  Subject hpl nom for january 9  2001\\r\\n see at...   \n",
       "2          0  Subject neon retreat\\r\\nho ho ho  we  re aroun...   \n",
       "3          1  Subject photoshop  windows  office  cheap  mai...   \n",
       "4          0  Subject re  indian springs\\r\\nthis deal is to ...   \n",
       "\n",
       "                                 body_text_tokenized  \\\n",
       "0  [Subject, enron, methanol, meter, 988291, this...   \n",
       "1  [Subject, hpl, nom, for, january, 9, 2001, see...   \n",
       "2  [Subject, neon, retreat, ho, ho, ho, we, re, a...   \n",
       "3  [Subject, photoshop, windows, office, cheap, m...   \n",
       "4  [Subject, re, indian, springs, this, deal, is,...   \n",
       "\n",
       "                                   body_text_nonstop  \n",
       "0  [Subject, enron, methanol, meter, 988291, foll...  \n",
       "1  [Subject, hpl, nom, january, 9, 2001, see, att...  \n",
       "2  [Subject, neon, retreat, ho, ho, ho, around, w...  \n",
       "3  [Subject, photoshop, windows, office, cheap, m...  \n",
       "4  [Subject, indian, springs, deal, book, teco, p...  "
      ]
     },
     "execution_count": 56,
     "metadata": {},
     "output_type": "execute_result"
    }
   ],
   "source": [
    "import nltk\n",
    "stopwords = nltk.corpus.stopwords.words(\"english\")\n",
    "\n",
    "def remove_stopwords(token):\n",
    "    text = [word for word in token if word not in stopwords]\n",
    "    return text\n",
    "\n",
    "data[\"body_text_nonstop\"] = data[\"body_text_tokenized\"].apply(lambda x: remove_stopwords(x))\n",
    "data.head()"
   ]
  },
  {
   "cell_type": "markdown",
   "id": "a1b26377",
   "metadata": {},
   "source": [
    "## Stemming"
   ]
  },
  {
   "cell_type": "code",
   "execution_count": 57,
   "id": "04d72085",
   "metadata": {},
   "outputs": [
    {
     "data": {
      "text/html": [
       "<div>\n",
       "<style scoped>\n",
       "    .dataframe tbody tr th:only-of-type {\n",
       "        vertical-align: middle;\n",
       "    }\n",
       "\n",
       "    .dataframe tbody tr th {\n",
       "        vertical-align: top;\n",
       "    }\n",
       "\n",
       "    .dataframe thead th {\n",
       "        text-align: right;\n",
       "    }\n",
       "</style>\n",
       "<table border=\"1\" class=\"dataframe\">\n",
       "  <thead>\n",
       "    <tr style=\"text-align: right;\">\n",
       "      <th></th>\n",
       "      <th>Unnamed: 0</th>\n",
       "      <th>label</th>\n",
       "      <th>text</th>\n",
       "      <th>label_num</th>\n",
       "      <th>body_text_clean</th>\n",
       "      <th>body_text_tokenized</th>\n",
       "      <th>body_text_nonstop</th>\n",
       "      <th>body_text_stemmed</th>\n",
       "    </tr>\n",
       "  </thead>\n",
       "  <tbody>\n",
       "    <tr>\n",
       "      <th>0</th>\n",
       "      <td>605</td>\n",
       "      <td>ham</td>\n",
       "      <td>Subject: enron methanol ; meter # : 988291\\r\\n...</td>\n",
       "      <td>0</td>\n",
       "      <td>Subject enron methanol  meter   988291\\r\\nthis...</td>\n",
       "      <td>[Subject, enron, methanol, meter, 988291, this...</td>\n",
       "      <td>[Subject, enron, methanol, meter, 988291, foll...</td>\n",
       "      <td>[subject, enron, methanol, meter, 988291, foll...</td>\n",
       "    </tr>\n",
       "    <tr>\n",
       "      <th>1</th>\n",
       "      <td>2349</td>\n",
       "      <td>ham</td>\n",
       "      <td>Subject: hpl nom for january 9 , 2001\\r\\n( see...</td>\n",
       "      <td>0</td>\n",
       "      <td>Subject hpl nom for january 9  2001\\r\\n see at...</td>\n",
       "      <td>[Subject, hpl, nom, for, january, 9, 2001, see...</td>\n",
       "      <td>[Subject, hpl, nom, january, 9, 2001, see, att...</td>\n",
       "      <td>[subject, hpl, nom, januari, 9, 2001, see, att...</td>\n",
       "    </tr>\n",
       "    <tr>\n",
       "      <th>2</th>\n",
       "      <td>3624</td>\n",
       "      <td>ham</td>\n",
       "      <td>Subject: neon retreat\\r\\nho ho ho , we ' re ar...</td>\n",
       "      <td>0</td>\n",
       "      <td>Subject neon retreat\\r\\nho ho ho  we  re aroun...</td>\n",
       "      <td>[Subject, neon, retreat, ho, ho, ho, we, re, a...</td>\n",
       "      <td>[Subject, neon, retreat, ho, ho, ho, around, w...</td>\n",
       "      <td>[subject, neon, retreat, ho, ho, ho, around, w...</td>\n",
       "    </tr>\n",
       "    <tr>\n",
       "      <th>3</th>\n",
       "      <td>4685</td>\n",
       "      <td>spam</td>\n",
       "      <td>Subject: photoshop , windows , office . cheap ...</td>\n",
       "      <td>1</td>\n",
       "      <td>Subject photoshop  windows  office  cheap  mai...</td>\n",
       "      <td>[Subject, photoshop, windows, office, cheap, m...</td>\n",
       "      <td>[Subject, photoshop, windows, office, cheap, m...</td>\n",
       "      <td>[subject, photoshop, window, offic, cheap, mai...</td>\n",
       "    </tr>\n",
       "    <tr>\n",
       "      <th>4</th>\n",
       "      <td>2030</td>\n",
       "      <td>ham</td>\n",
       "      <td>Subject: re : indian springs\\r\\nthis deal is t...</td>\n",
       "      <td>0</td>\n",
       "      <td>Subject re  indian springs\\r\\nthis deal is to ...</td>\n",
       "      <td>[Subject, re, indian, springs, this, deal, is,...</td>\n",
       "      <td>[Subject, indian, springs, deal, book, teco, p...</td>\n",
       "      <td>[subject, indian, spring, deal, book, teco, pv...</td>\n",
       "    </tr>\n",
       "  </tbody>\n",
       "</table>\n",
       "</div>"
      ],
      "text/plain": [
       "   Unnamed: 0 label                                               text  \\\n",
       "0         605   ham  Subject: enron methanol ; meter # : 988291\\r\\n...   \n",
       "1        2349   ham  Subject: hpl nom for january 9 , 2001\\r\\n( see...   \n",
       "2        3624   ham  Subject: neon retreat\\r\\nho ho ho , we ' re ar...   \n",
       "3        4685  spam  Subject: photoshop , windows , office . cheap ...   \n",
       "4        2030   ham  Subject: re : indian springs\\r\\nthis deal is t...   \n",
       "\n",
       "   label_num                                    body_text_clean  \\\n",
       "0          0  Subject enron methanol  meter   988291\\r\\nthis...   \n",
       "1          0  Subject hpl nom for january 9  2001\\r\\n see at...   \n",
       "2          0  Subject neon retreat\\r\\nho ho ho  we  re aroun...   \n",
       "3          1  Subject photoshop  windows  office  cheap  mai...   \n",
       "4          0  Subject re  indian springs\\r\\nthis deal is to ...   \n",
       "\n",
       "                                 body_text_tokenized  \\\n",
       "0  [Subject, enron, methanol, meter, 988291, this...   \n",
       "1  [Subject, hpl, nom, for, january, 9, 2001, see...   \n",
       "2  [Subject, neon, retreat, ho, ho, ho, we, re, a...   \n",
       "3  [Subject, photoshop, windows, office, cheap, m...   \n",
       "4  [Subject, re, indian, springs, this, deal, is,...   \n",
       "\n",
       "                                   body_text_nonstop  \\\n",
       "0  [Subject, enron, methanol, meter, 988291, foll...   \n",
       "1  [Subject, hpl, nom, january, 9, 2001, see, att...   \n",
       "2  [Subject, neon, retreat, ho, ho, ho, around, w...   \n",
       "3  [Subject, photoshop, windows, office, cheap, m...   \n",
       "4  [Subject, indian, springs, deal, book, teco, p...   \n",
       "\n",
       "                                   body_text_stemmed  \n",
       "0  [subject, enron, methanol, meter, 988291, foll...  \n",
       "1  [subject, hpl, nom, januari, 9, 2001, see, att...  \n",
       "2  [subject, neon, retreat, ho, ho, ho, around, w...  \n",
       "3  [subject, photoshop, window, offic, cheap, mai...  \n",
       "4  [subject, indian, spring, deal, book, teco, pv...  "
      ]
     },
     "execution_count": 57,
     "metadata": {},
     "output_type": "execute_result"
    }
   ],
   "source": [
    "ps = nltk.PorterStemmer()\n",
    "\n",
    "def stemming(t_text):\n",
    "    text = [ps.stem(word) for word in t_text]\n",
    "    return text\n",
    "\n",
    "data[\"body_text_stemmed\"] = data[\"body_text_nonstop\"].apply(lambda x: stemming(x))\n",
    "data.head()"
   ]
  },
  {
   "cell_type": "markdown",
   "id": "e5ebc402",
   "metadata": {},
   "source": [
    "## Lemmatization"
   ]
  },
  {
   "cell_type": "code",
   "execution_count": 58,
   "id": "b984c73c",
   "metadata": {},
   "outputs": [
    {
     "data": {
      "text/html": [
       "<div>\n",
       "<style scoped>\n",
       "    .dataframe tbody tr th:only-of-type {\n",
       "        vertical-align: middle;\n",
       "    }\n",
       "\n",
       "    .dataframe tbody tr th {\n",
       "        vertical-align: top;\n",
       "    }\n",
       "\n",
       "    .dataframe thead th {\n",
       "        text-align: right;\n",
       "    }\n",
       "</style>\n",
       "<table border=\"1\" class=\"dataframe\">\n",
       "  <thead>\n",
       "    <tr style=\"text-align: right;\">\n",
       "      <th></th>\n",
       "      <th>Unnamed: 0</th>\n",
       "      <th>label</th>\n",
       "      <th>text</th>\n",
       "      <th>label_num</th>\n",
       "      <th>body_text_clean</th>\n",
       "      <th>body_text_tokenized</th>\n",
       "      <th>body_text_nonstop</th>\n",
       "      <th>body_text_stemmed</th>\n",
       "      <th>body_text_lemmatized</th>\n",
       "    </tr>\n",
       "  </thead>\n",
       "  <tbody>\n",
       "    <tr>\n",
       "      <th>0</th>\n",
       "      <td>605</td>\n",
       "      <td>ham</td>\n",
       "      <td>Subject: enron methanol ; meter # : 988291\\r\\n...</td>\n",
       "      <td>0</td>\n",
       "      <td>Subject enron methanol  meter   988291\\r\\nthis...</td>\n",
       "      <td>[Subject, enron, methanol, meter, 988291, this...</td>\n",
       "      <td>[Subject, enron, methanol, meter, 988291, foll...</td>\n",
       "      <td>[subject, enron, methanol, meter, 988291, foll...</td>\n",
       "      <td>[subject, enron, methanol, meter, 988291, foll...</td>\n",
       "    </tr>\n",
       "    <tr>\n",
       "      <th>1</th>\n",
       "      <td>2349</td>\n",
       "      <td>ham</td>\n",
       "      <td>Subject: hpl nom for january 9 , 2001\\r\\n( see...</td>\n",
       "      <td>0</td>\n",
       "      <td>Subject hpl nom for january 9  2001\\r\\n see at...</td>\n",
       "      <td>[Subject, hpl, nom, for, january, 9, 2001, see...</td>\n",
       "      <td>[Subject, hpl, nom, january, 9, 2001, see, att...</td>\n",
       "      <td>[subject, hpl, nom, januari, 9, 2001, see, att...</td>\n",
       "      <td>[subject, hpl, nom, januari, 9, 2001, see, att...</td>\n",
       "    </tr>\n",
       "    <tr>\n",
       "      <th>2</th>\n",
       "      <td>3624</td>\n",
       "      <td>ham</td>\n",
       "      <td>Subject: neon retreat\\r\\nho ho ho , we ' re ar...</td>\n",
       "      <td>0</td>\n",
       "      <td>Subject neon retreat\\r\\nho ho ho  we  re aroun...</td>\n",
       "      <td>[Subject, neon, retreat, ho, ho, ho, we, re, a...</td>\n",
       "      <td>[Subject, neon, retreat, ho, ho, ho, around, w...</td>\n",
       "      <td>[subject, neon, retreat, ho, ho, ho, around, w...</td>\n",
       "      <td>[subject, neon, retreat, ho, ho, ho, around, w...</td>\n",
       "    </tr>\n",
       "    <tr>\n",
       "      <th>3</th>\n",
       "      <td>4685</td>\n",
       "      <td>spam</td>\n",
       "      <td>Subject: photoshop , windows , office . cheap ...</td>\n",
       "      <td>1</td>\n",
       "      <td>Subject photoshop  windows  office  cheap  mai...</td>\n",
       "      <td>[Subject, photoshop, windows, office, cheap, m...</td>\n",
       "      <td>[Subject, photoshop, windows, office, cheap, m...</td>\n",
       "      <td>[subject, photoshop, window, offic, cheap, mai...</td>\n",
       "      <td>[subject, photoshop, window, offic, cheap, mai...</td>\n",
       "    </tr>\n",
       "    <tr>\n",
       "      <th>4</th>\n",
       "      <td>2030</td>\n",
       "      <td>ham</td>\n",
       "      <td>Subject: re : indian springs\\r\\nthis deal is t...</td>\n",
       "      <td>0</td>\n",
       "      <td>Subject re  indian springs\\r\\nthis deal is to ...</td>\n",
       "      <td>[Subject, re, indian, springs, this, deal, is,...</td>\n",
       "      <td>[Subject, indian, springs, deal, book, teco, p...</td>\n",
       "      <td>[subject, indian, spring, deal, book, teco, pv...</td>\n",
       "      <td>[subject, indian, spring, deal, book, teco, pv...</td>\n",
       "    </tr>\n",
       "  </tbody>\n",
       "</table>\n",
       "</div>"
      ],
      "text/plain": [
       "   Unnamed: 0 label                                               text  \\\n",
       "0         605   ham  Subject: enron methanol ; meter # : 988291\\r\\n...   \n",
       "1        2349   ham  Subject: hpl nom for january 9 , 2001\\r\\n( see...   \n",
       "2        3624   ham  Subject: neon retreat\\r\\nho ho ho , we ' re ar...   \n",
       "3        4685  spam  Subject: photoshop , windows , office . cheap ...   \n",
       "4        2030   ham  Subject: re : indian springs\\r\\nthis deal is t...   \n",
       "\n",
       "   label_num                                    body_text_clean  \\\n",
       "0          0  Subject enron methanol  meter   988291\\r\\nthis...   \n",
       "1          0  Subject hpl nom for january 9  2001\\r\\n see at...   \n",
       "2          0  Subject neon retreat\\r\\nho ho ho  we  re aroun...   \n",
       "3          1  Subject photoshop  windows  office  cheap  mai...   \n",
       "4          0  Subject re  indian springs\\r\\nthis deal is to ...   \n",
       "\n",
       "                                 body_text_tokenized  \\\n",
       "0  [Subject, enron, methanol, meter, 988291, this...   \n",
       "1  [Subject, hpl, nom, for, january, 9, 2001, see...   \n",
       "2  [Subject, neon, retreat, ho, ho, ho, we, re, a...   \n",
       "3  [Subject, photoshop, windows, office, cheap, m...   \n",
       "4  [Subject, re, indian, springs, this, deal, is,...   \n",
       "\n",
       "                                   body_text_nonstop  \\\n",
       "0  [Subject, enron, methanol, meter, 988291, foll...   \n",
       "1  [Subject, hpl, nom, january, 9, 2001, see, att...   \n",
       "2  [Subject, neon, retreat, ho, ho, ho, around, w...   \n",
       "3  [Subject, photoshop, windows, office, cheap, m...   \n",
       "4  [Subject, indian, springs, deal, book, teco, p...   \n",
       "\n",
       "                                   body_text_stemmed  \\\n",
       "0  [subject, enron, methanol, meter, 988291, foll...   \n",
       "1  [subject, hpl, nom, januari, 9, 2001, see, att...   \n",
       "2  [subject, neon, retreat, ho, ho, ho, around, w...   \n",
       "3  [subject, photoshop, window, offic, cheap, mai...   \n",
       "4  [subject, indian, spring, deal, book, teco, pv...   \n",
       "\n",
       "                                body_text_lemmatized  \n",
       "0  [subject, enron, methanol, meter, 988291, foll...  \n",
       "1  [subject, hpl, nom, januari, 9, 2001, see, att...  \n",
       "2  [subject, neon, retreat, ho, ho, ho, around, w...  \n",
       "3  [subject, photoshop, window, offic, cheap, mai...  \n",
       "4  [subject, indian, spring, deal, book, teco, pv...  "
      ]
     },
     "execution_count": 58,
     "metadata": {},
     "output_type": "execute_result"
    }
   ],
   "source": [
    "wn = nltk.WordNetLemmatizer()\n",
    "\n",
    "def lemmatizer(t_text):\n",
    "    text = [wn.lemmatize(word) for word in t_text]\n",
    "    return text\n",
    "\n",
    "data[\"body_text_lemmatized\"] = data[\"body_text_stemmed\"].apply(lambda x: lemmatizer(x))\n",
    "data.head()"
   ]
  },
  {
   "cell_type": "code",
   "execution_count": 59,
   "id": "22c363ad",
   "metadata": {},
   "outputs": [
    {
     "data": {
      "text/html": [
       "<div>\n",
       "<style scoped>\n",
       "    .dataframe tbody tr th:only-of-type {\n",
       "        vertical-align: middle;\n",
       "    }\n",
       "\n",
       "    .dataframe tbody tr th {\n",
       "        vertical-align: top;\n",
       "    }\n",
       "\n",
       "    .dataframe thead th {\n",
       "        text-align: right;\n",
       "    }\n",
       "</style>\n",
       "<table border=\"1\" class=\"dataframe\">\n",
       "  <thead>\n",
       "    <tr style=\"text-align: right;\">\n",
       "      <th></th>\n",
       "      <th>Unnamed: 0</th>\n",
       "      <th>label</th>\n",
       "      <th>text</th>\n",
       "      <th>label_num</th>\n",
       "      <th>body_text_clean</th>\n",
       "      <th>body_text_tokenized</th>\n",
       "      <th>body_text_nonstop</th>\n",
       "      <th>body_text_stemmed</th>\n",
       "      <th>body_text_lemmatized</th>\n",
       "      <th>body_text_length</th>\n",
       "      <th>body_text_clean_length</th>\n",
       "    </tr>\n",
       "  </thead>\n",
       "  <tbody>\n",
       "    <tr>\n",
       "      <th>0</th>\n",
       "      <td>605</td>\n",
       "      <td>ham</td>\n",
       "      <td>Subject: enron methanol ; meter # : 988291\\r\\n...</td>\n",
       "      <td>0</td>\n",
       "      <td>Subject enron methanol  meter   988291\\r\\nthis...</td>\n",
       "      <td>[Subject, enron, methanol, meter, 988291, this...</td>\n",
       "      <td>[Subject, enron, methanol, meter, 988291, foll...</td>\n",
       "      <td>[subject, enron, methanol, meter, 988291, foll...</td>\n",
       "      <td>[subject, enron, methanol, meter, 988291, foll...</td>\n",
       "      <td>327</td>\n",
       "      <td>312</td>\n",
       "    </tr>\n",
       "    <tr>\n",
       "      <th>1</th>\n",
       "      <td>2349</td>\n",
       "      <td>ham</td>\n",
       "      <td>Subject: hpl nom for january 9 , 2001\\r\\n( see...</td>\n",
       "      <td>0</td>\n",
       "      <td>Subject hpl nom for january 9  2001\\r\\n see at...</td>\n",
       "      <td>[Subject, hpl, nom, for, january, 9, 2001, see...</td>\n",
       "      <td>[Subject, hpl, nom, january, 9, 2001, see, att...</td>\n",
       "      <td>[subject, hpl, nom, januari, 9, 2001, see, att...</td>\n",
       "      <td>[subject, hpl, nom, januari, 9, 2001, see, att...</td>\n",
       "      <td>97</td>\n",
       "      <td>89</td>\n",
       "    </tr>\n",
       "    <tr>\n",
       "      <th>2</th>\n",
       "      <td>3624</td>\n",
       "      <td>ham</td>\n",
       "      <td>Subject: neon retreat\\r\\nho ho ho , we ' re ar...</td>\n",
       "      <td>0</td>\n",
       "      <td>Subject neon retreat\\r\\nho ho ho  we  re aroun...</td>\n",
       "      <td>[Subject, neon, retreat, ho, ho, ho, we, re, a...</td>\n",
       "      <td>[Subject, neon, retreat, ho, ho, ho, around, w...</td>\n",
       "      <td>[subject, neon, retreat, ho, ho, ho, around, w...</td>\n",
       "      <td>[subject, neon, retreat, ho, ho, ho, around, w...</td>\n",
       "      <td>2524</td>\n",
       "      <td>2442</td>\n",
       "    </tr>\n",
       "    <tr>\n",
       "      <th>3</th>\n",
       "      <td>4685</td>\n",
       "      <td>spam</td>\n",
       "      <td>Subject: photoshop , windows , office . cheap ...</td>\n",
       "      <td>1</td>\n",
       "      <td>Subject photoshop  windows  office  cheap  mai...</td>\n",
       "      <td>[Subject, photoshop, windows, office, cheap, m...</td>\n",
       "      <td>[Subject, photoshop, windows, office, cheap, m...</td>\n",
       "      <td>[subject, photoshop, window, offic, cheap, mai...</td>\n",
       "      <td>[subject, photoshop, window, offic, cheap, mai...</td>\n",
       "      <td>414</td>\n",
       "      <td>409</td>\n",
       "    </tr>\n",
       "    <tr>\n",
       "      <th>4</th>\n",
       "      <td>2030</td>\n",
       "      <td>ham</td>\n",
       "      <td>Subject: re : indian springs\\r\\nthis deal is t...</td>\n",
       "      <td>0</td>\n",
       "      <td>Subject re  indian springs\\r\\nthis deal is to ...</td>\n",
       "      <td>[Subject, re, indian, springs, this, deal, is,...</td>\n",
       "      <td>[Subject, indian, springs, deal, book, teco, p...</td>\n",
       "      <td>[subject, indian, spring, deal, book, teco, pv...</td>\n",
       "      <td>[subject, indian, spring, deal, book, teco, pv...</td>\n",
       "      <td>336</td>\n",
       "      <td>329</td>\n",
       "    </tr>\n",
       "  </tbody>\n",
       "</table>\n",
       "</div>"
      ],
      "text/plain": [
       "   Unnamed: 0 label                                               text  \\\n",
       "0         605   ham  Subject: enron methanol ; meter # : 988291\\r\\n...   \n",
       "1        2349   ham  Subject: hpl nom for january 9 , 2001\\r\\n( see...   \n",
       "2        3624   ham  Subject: neon retreat\\r\\nho ho ho , we ' re ar...   \n",
       "3        4685  spam  Subject: photoshop , windows , office . cheap ...   \n",
       "4        2030   ham  Subject: re : indian springs\\r\\nthis deal is t...   \n",
       "\n",
       "   label_num                                    body_text_clean  \\\n",
       "0          0  Subject enron methanol  meter   988291\\r\\nthis...   \n",
       "1          0  Subject hpl nom for january 9  2001\\r\\n see at...   \n",
       "2          0  Subject neon retreat\\r\\nho ho ho  we  re aroun...   \n",
       "3          1  Subject photoshop  windows  office  cheap  mai...   \n",
       "4          0  Subject re  indian springs\\r\\nthis deal is to ...   \n",
       "\n",
       "                                 body_text_tokenized  \\\n",
       "0  [Subject, enron, methanol, meter, 988291, this...   \n",
       "1  [Subject, hpl, nom, for, january, 9, 2001, see...   \n",
       "2  [Subject, neon, retreat, ho, ho, ho, we, re, a...   \n",
       "3  [Subject, photoshop, windows, office, cheap, m...   \n",
       "4  [Subject, re, indian, springs, this, deal, is,...   \n",
       "\n",
       "                                   body_text_nonstop  \\\n",
       "0  [Subject, enron, methanol, meter, 988291, foll...   \n",
       "1  [Subject, hpl, nom, january, 9, 2001, see, att...   \n",
       "2  [Subject, neon, retreat, ho, ho, ho, around, w...   \n",
       "3  [Subject, photoshop, windows, office, cheap, m...   \n",
       "4  [Subject, indian, springs, deal, book, teco, p...   \n",
       "\n",
       "                                   body_text_stemmed  \\\n",
       "0  [subject, enron, methanol, meter, 988291, foll...   \n",
       "1  [subject, hpl, nom, januari, 9, 2001, see, att...   \n",
       "2  [subject, neon, retreat, ho, ho, ho, around, w...   \n",
       "3  [subject, photoshop, window, offic, cheap, mai...   \n",
       "4  [subject, indian, spring, deal, book, teco, pv...   \n",
       "\n",
       "                                body_text_lemmatized  body_text_length  \\\n",
       "0  [subject, enron, methanol, meter, 988291, foll...               327   \n",
       "1  [subject, hpl, nom, januari, 9, 2001, see, att...                97   \n",
       "2  [subject, neon, retreat, ho, ho, ho, around, w...              2524   \n",
       "3  [subject, photoshop, window, offic, cheap, mai...               414   \n",
       "4  [subject, indian, spring, deal, book, teco, pv...               336   \n",
       "\n",
       "   body_text_clean_length  \n",
       "0                     312  \n",
       "1                      89  \n",
       "2                    2442  \n",
       "3                     409  \n",
       "4                     329  "
      ]
     },
     "execution_count": 59,
     "metadata": {},
     "output_type": "execute_result"
    }
   ],
   "source": [
    "data['body_text_length'] = data.text.str.len()\n",
    "data['body_text_clean_length'] = data.body_text_clean.str.len()\n",
    "\n",
    "data.head()"
   ]
  },
  {
   "cell_type": "code",
   "execution_count": 60,
   "id": "2db4ecf4",
   "metadata": {},
   "outputs": [
    {
     "data": {
      "text/plain": [
       "0        327\n",
       "1         97\n",
       "2       2524\n",
       "3        414\n",
       "4        336\n",
       "        ... \n",
       "5166     534\n",
       "5167    1114\n",
       "5168     402\n",
       "5169     573\n",
       "5170    1114\n",
       "Name: body_text_length, Length: 5171, dtype: int64"
      ]
     },
     "execution_count": 60,
     "metadata": {},
     "output_type": "execute_result"
    }
   ],
   "source": [
    "data['body_text_length']"
   ]
  },
  {
   "cell_type": "code",
   "execution_count": 61,
   "id": "aab872b4",
   "metadata": {},
   "outputs": [
    {
     "name": "stdout",
     "output_type": "stream",
     "text": [
      "Original Length: 5421235\n",
      "Cleaned Length: 5088610\n",
      "Total Words Removed: 332625\n"
     ]
    }
   ],
   "source": [
    "print(\"Original Length:\",data['body_text_length'].sum())\n",
    "print(\"Cleaned Length:\",data['body_text_clean_length'].sum())\n",
    "print(\"Total Words Removed:\",(data['body_text_length'].sum()) - (data['body_text_clean_length'].sum()))"
   ]
  },
  {
   "cell_type": "code",
   "execution_count": 62,
   "id": "332e9454",
   "metadata": {},
   "outputs": [
    {
     "name": "stdout",
     "output_type": "stream",
     "text": [
      "<class 'pandas.core.frame.DataFrame'>\n",
      "RangeIndex: 5171 entries, 0 to 5170\n",
      "Data columns (total 11 columns):\n",
      " #   Column                  Non-Null Count  Dtype \n",
      "---  ------                  --------------  ----- \n",
      " 0   Unnamed: 0              5171 non-null   int64 \n",
      " 1   label                   5171 non-null   object\n",
      " 2   text                    5171 non-null   object\n",
      " 3   label_num               5171 non-null   int64 \n",
      " 4   body_text_clean         5171 non-null   object\n",
      " 5   body_text_tokenized     5171 non-null   object\n",
      " 6   body_text_nonstop       5171 non-null   object\n",
      " 7   body_text_stemmed       5171 non-null   object\n",
      " 8   body_text_lemmatized    5171 non-null   object\n",
      " 9   body_text_length        5171 non-null   int64 \n",
      " 10  body_text_clean_length  5171 non-null   int64 \n",
      "dtypes: int64(4), object(7)\n",
      "memory usage: 444.5+ KB\n"
     ]
    }
   ],
   "source": [
    "data.info()"
   ]
  },
  {
   "cell_type": "markdown",
   "id": "fb9c6b08",
   "metadata": {},
   "source": [
    "## Exploratory Data Analysis"
   ]
  },
  {
   "cell_type": "code",
   "execution_count": 63,
   "id": "68c66444",
   "metadata": {},
   "outputs": [],
   "source": [
    "data_eda=data"
   ]
  },
  {
   "cell_type": "code",
   "execution_count": 64,
   "id": "977c20c9",
   "metadata": {},
   "outputs": [
    {
     "data": {
      "text/html": [
       "<div>\n",
       "<style scoped>\n",
       "    .dataframe tbody tr th:only-of-type {\n",
       "        vertical-align: middle;\n",
       "    }\n",
       "\n",
       "    .dataframe tbody tr th {\n",
       "        vertical-align: top;\n",
       "    }\n",
       "\n",
       "    .dataframe thead th {\n",
       "        text-align: right;\n",
       "    }\n",
       "</style>\n",
       "<table border=\"1\" class=\"dataframe\">\n",
       "  <thead>\n",
       "    <tr style=\"text-align: right;\">\n",
       "      <th></th>\n",
       "      <th>Unnamed: 0</th>\n",
       "      <th>label</th>\n",
       "      <th>text</th>\n",
       "      <th>label_num</th>\n",
       "      <th>body_text_clean</th>\n",
       "      <th>body_text_tokenized</th>\n",
       "      <th>body_text_nonstop</th>\n",
       "      <th>body_text_stemmed</th>\n",
       "      <th>body_text_lemmatized</th>\n",
       "      <th>body_text_length</th>\n",
       "      <th>body_text_clean_length</th>\n",
       "      <th>num_characters</th>\n",
       "      <th>num_words</th>\n",
       "      <th>num_sentences</th>\n",
       "    </tr>\n",
       "  </thead>\n",
       "  <tbody>\n",
       "    <tr>\n",
       "      <th>0</th>\n",
       "      <td>605</td>\n",
       "      <td>ham</td>\n",
       "      <td>Subject: enron methanol ; meter # : 988291\\r\\n...</td>\n",
       "      <td>0</td>\n",
       "      <td>Subject enron methanol  meter   988291\\r\\nthis...</td>\n",
       "      <td>[Subject, enron, methanol, meter, 988291, this...</td>\n",
       "      <td>[Subject, enron, methanol, meter, 988291, foll...</td>\n",
       "      <td>[subject, enron, methanol, meter, 988291, foll...</td>\n",
       "      <td>[subject, enron, methanol, meter, 988291, foll...</td>\n",
       "      <td>327</td>\n",
       "      <td>312</td>\n",
       "      <td>327</td>\n",
       "      <td>68</td>\n",
       "      <td>3</td>\n",
       "    </tr>\n",
       "    <tr>\n",
       "      <th>1</th>\n",
       "      <td>2349</td>\n",
       "      <td>ham</td>\n",
       "      <td>Subject: hpl nom for january 9 , 2001\\r\\n( see...</td>\n",
       "      <td>0</td>\n",
       "      <td>Subject hpl nom for january 9  2001\\r\\n see at...</td>\n",
       "      <td>[Subject, hpl, nom, for, january, 9, 2001, see...</td>\n",
       "      <td>[Subject, hpl, nom, january, 9, 2001, see, att...</td>\n",
       "      <td>[subject, hpl, nom, januari, 9, 2001, see, att...</td>\n",
       "      <td>[subject, hpl, nom, januari, 9, 2001, see, att...</td>\n",
       "      <td>97</td>\n",
       "      <td>89</td>\n",
       "      <td>97</td>\n",
       "      <td>24</td>\n",
       "      <td>1</td>\n",
       "    </tr>\n",
       "    <tr>\n",
       "      <th>2</th>\n",
       "      <td>3624</td>\n",
       "      <td>ham</td>\n",
       "      <td>Subject: neon retreat\\r\\nho ho ho , we ' re ar...</td>\n",
       "      <td>0</td>\n",
       "      <td>Subject neon retreat\\r\\nho ho ho  we  re aroun...</td>\n",
       "      <td>[Subject, neon, retreat, ho, ho, ho, we, re, a...</td>\n",
       "      <td>[Subject, neon, retreat, ho, ho, ho, around, w...</td>\n",
       "      <td>[subject, neon, retreat, ho, ho, ho, around, w...</td>\n",
       "      <td>[subject, neon, retreat, ho, ho, ho, around, w...</td>\n",
       "      <td>2524</td>\n",
       "      <td>2442</td>\n",
       "      <td>2524</td>\n",
       "      <td>551</td>\n",
       "      <td>20</td>\n",
       "    </tr>\n",
       "    <tr>\n",
       "      <th>3</th>\n",
       "      <td>4685</td>\n",
       "      <td>spam</td>\n",
       "      <td>Subject: photoshop , windows , office . cheap ...</td>\n",
       "      <td>1</td>\n",
       "      <td>Subject photoshop  windows  office  cheap  mai...</td>\n",
       "      <td>[Subject, photoshop, windows, office, cheap, m...</td>\n",
       "      <td>[Subject, photoshop, windows, office, cheap, m...</td>\n",
       "      <td>[subject, photoshop, window, offic, cheap, mai...</td>\n",
       "      <td>[subject, photoshop, window, offic, cheap, mai...</td>\n",
       "      <td>414</td>\n",
       "      <td>409</td>\n",
       "      <td>414</td>\n",
       "      <td>49</td>\n",
       "      <td>3</td>\n",
       "    </tr>\n",
       "    <tr>\n",
       "      <th>4</th>\n",
       "      <td>2030</td>\n",
       "      <td>ham</td>\n",
       "      <td>Subject: re : indian springs\\r\\nthis deal is t...</td>\n",
       "      <td>0</td>\n",
       "      <td>Subject re  indian springs\\r\\nthis deal is to ...</td>\n",
       "      <td>[Subject, re, indian, springs, this, deal, is,...</td>\n",
       "      <td>[Subject, indian, springs, deal, book, teco, p...</td>\n",
       "      <td>[subject, indian, spring, deal, book, teco, pv...</td>\n",
       "      <td>[subject, indian, spring, deal, book, teco, pv...</td>\n",
       "      <td>336</td>\n",
       "      <td>329</td>\n",
       "      <td>336</td>\n",
       "      <td>71</td>\n",
       "      <td>3</td>\n",
       "    </tr>\n",
       "  </tbody>\n",
       "</table>\n",
       "</div>"
      ],
      "text/plain": [
       "   Unnamed: 0 label                                               text  \\\n",
       "0         605   ham  Subject: enron methanol ; meter # : 988291\\r\\n...   \n",
       "1        2349   ham  Subject: hpl nom for january 9 , 2001\\r\\n( see...   \n",
       "2        3624   ham  Subject: neon retreat\\r\\nho ho ho , we ' re ar...   \n",
       "3        4685  spam  Subject: photoshop , windows , office . cheap ...   \n",
       "4        2030   ham  Subject: re : indian springs\\r\\nthis deal is t...   \n",
       "\n",
       "   label_num                                    body_text_clean  \\\n",
       "0          0  Subject enron methanol  meter   988291\\r\\nthis...   \n",
       "1          0  Subject hpl nom for january 9  2001\\r\\n see at...   \n",
       "2          0  Subject neon retreat\\r\\nho ho ho  we  re aroun...   \n",
       "3          1  Subject photoshop  windows  office  cheap  mai...   \n",
       "4          0  Subject re  indian springs\\r\\nthis deal is to ...   \n",
       "\n",
       "                                 body_text_tokenized  \\\n",
       "0  [Subject, enron, methanol, meter, 988291, this...   \n",
       "1  [Subject, hpl, nom, for, january, 9, 2001, see...   \n",
       "2  [Subject, neon, retreat, ho, ho, ho, we, re, a...   \n",
       "3  [Subject, photoshop, windows, office, cheap, m...   \n",
       "4  [Subject, re, indian, springs, this, deal, is,...   \n",
       "\n",
       "                                   body_text_nonstop  \\\n",
       "0  [Subject, enron, methanol, meter, 988291, foll...   \n",
       "1  [Subject, hpl, nom, january, 9, 2001, see, att...   \n",
       "2  [Subject, neon, retreat, ho, ho, ho, around, w...   \n",
       "3  [Subject, photoshop, windows, office, cheap, m...   \n",
       "4  [Subject, indian, springs, deal, book, teco, p...   \n",
       "\n",
       "                                   body_text_stemmed  \\\n",
       "0  [subject, enron, methanol, meter, 988291, foll...   \n",
       "1  [subject, hpl, nom, januari, 9, 2001, see, att...   \n",
       "2  [subject, neon, retreat, ho, ho, ho, around, w...   \n",
       "3  [subject, photoshop, window, offic, cheap, mai...   \n",
       "4  [subject, indian, spring, deal, book, teco, pv...   \n",
       "\n",
       "                                body_text_lemmatized  body_text_length  \\\n",
       "0  [subject, enron, methanol, meter, 988291, foll...               327   \n",
       "1  [subject, hpl, nom, januari, 9, 2001, see, att...                97   \n",
       "2  [subject, neon, retreat, ho, ho, ho, around, w...              2524   \n",
       "3  [subject, photoshop, window, offic, cheap, mai...               414   \n",
       "4  [subject, indian, spring, deal, book, teco, pv...               336   \n",
       "\n",
       "   body_text_clean_length  num_characters  num_words  num_sentences  \n",
       "0                     312             327         68              3  \n",
       "1                      89              97         24              1  \n",
       "2                    2442            2524        551             20  \n",
       "3                     409             414         49              3  \n",
       "4                     329             336         71              3  "
      ]
     },
     "execution_count": 64,
     "metadata": {},
     "output_type": "execute_result"
    }
   ],
   "source": [
    "data_eda['num_characters'] = data['text'].apply(len) #storing the total number of characters in each email in a new column\n",
    "data_eda['num_words'] = data['text'].apply(lambda x:len(nltk.word_tokenize(x))) # storing the number of words in each email\n",
    "data_eda['num_sentences'] = data['text'].apply(lambda x:len(nltk.sent_tokenize(x))) # storing the number of sentences\n",
    "data_eda.head()"
   ]
  },
  {
   "cell_type": "code",
   "execution_count": 65,
   "id": "3659fa8b",
   "metadata": {},
   "outputs": [
    {
     "data": {
      "text/html": [
       "<div>\n",
       "<style scoped>\n",
       "    .dataframe tbody tr th:only-of-type {\n",
       "        vertical-align: middle;\n",
       "    }\n",
       "\n",
       "    .dataframe tbody tr th {\n",
       "        vertical-align: top;\n",
       "    }\n",
       "\n",
       "    .dataframe thead th {\n",
       "        text-align: right;\n",
       "    }\n",
       "</style>\n",
       "<table border=\"1\" class=\"dataframe\">\n",
       "  <thead>\n",
       "    <tr style=\"text-align: right;\">\n",
       "      <th></th>\n",
       "      <th>num_characters</th>\n",
       "      <th>num_words</th>\n",
       "      <th>num_sentences</th>\n",
       "    </tr>\n",
       "  </thead>\n",
       "  <tbody>\n",
       "    <tr>\n",
       "      <th>count</th>\n",
       "      <td>5171.000000</td>\n",
       "      <td>5171.000000</td>\n",
       "      <td>5171.000000</td>\n",
       "    </tr>\n",
       "    <tr>\n",
       "      <th>mean</th>\n",
       "      <td>1048.391994</td>\n",
       "      <td>229.181009</td>\n",
       "      <td>9.999613</td>\n",
       "    </tr>\n",
       "    <tr>\n",
       "      <th>std</th>\n",
       "      <td>1528.513435</td>\n",
       "      <td>336.487397</td>\n",
       "      <td>21.678645</td>\n",
       "    </tr>\n",
       "    <tr>\n",
       "      <th>min</th>\n",
       "      <td>11.000000</td>\n",
       "      <td>2.000000</td>\n",
       "      <td>1.000000</td>\n",
       "    </tr>\n",
       "    <tr>\n",
       "      <th>25%</th>\n",
       "      <td>244.000000</td>\n",
       "      <td>52.000000</td>\n",
       "      <td>3.000000</td>\n",
       "    </tr>\n",
       "    <tr>\n",
       "      <th>50%</th>\n",
       "      <td>540.000000</td>\n",
       "      <td>122.000000</td>\n",
       "      <td>6.000000</td>\n",
       "    </tr>\n",
       "    <tr>\n",
       "      <th>75%</th>\n",
       "      <td>1237.000000</td>\n",
       "      <td>283.500000</td>\n",
       "      <td>11.000000</td>\n",
       "    </tr>\n",
       "    <tr>\n",
       "      <th>max</th>\n",
       "      <td>32258.000000</td>\n",
       "      <td>8863.000000</td>\n",
       "      <td>1163.000000</td>\n",
       "    </tr>\n",
       "  </tbody>\n",
       "</table>\n",
       "</div>"
      ],
      "text/plain": [
       "       num_characters    num_words  num_sentences\n",
       "count     5171.000000  5171.000000    5171.000000\n",
       "mean      1048.391994   229.181009       9.999613\n",
       "std       1528.513435   336.487397      21.678645\n",
       "min         11.000000     2.000000       1.000000\n",
       "25%        244.000000    52.000000       3.000000\n",
       "50%        540.000000   122.000000       6.000000\n",
       "75%       1237.000000   283.500000      11.000000\n",
       "max      32258.000000  8863.000000    1163.000000"
      ]
     },
     "execution_count": 65,
     "metadata": {},
     "output_type": "execute_result"
    }
   ],
   "source": [
    "data_eda[['num_characters','num_words','num_sentences']].describe()"
   ]
  },
  {
   "cell_type": "code",
   "execution_count": 66,
   "id": "26d9eb64",
   "metadata": {},
   "outputs": [
    {
     "data": {
      "text/html": [
       "<div>\n",
       "<style scoped>\n",
       "    .dataframe tbody tr th:only-of-type {\n",
       "        vertical-align: middle;\n",
       "    }\n",
       "\n",
       "    .dataframe tbody tr th {\n",
       "        vertical-align: top;\n",
       "    }\n",
       "\n",
       "    .dataframe thead th {\n",
       "        text-align: right;\n",
       "    }\n",
       "</style>\n",
       "<table border=\"1\" class=\"dataframe\">\n",
       "  <thead>\n",
       "    <tr style=\"text-align: right;\">\n",
       "      <th></th>\n",
       "      <th>num_characters</th>\n",
       "      <th>num_words</th>\n",
       "      <th>num_sentences</th>\n",
       "    </tr>\n",
       "  </thead>\n",
       "  <tbody>\n",
       "    <tr>\n",
       "      <th>count</th>\n",
       "      <td>3672.000000</td>\n",
       "      <td>3672.000000</td>\n",
       "      <td>3672.000000</td>\n",
       "    </tr>\n",
       "    <tr>\n",
       "      <th>mean</th>\n",
       "      <td>977.008170</td>\n",
       "      <td>226.239107</td>\n",
       "      <td>8.634259</td>\n",
       "    </tr>\n",
       "    <tr>\n",
       "      <th>std</th>\n",
       "      <td>1382.827493</td>\n",
       "      <td>332.179661</td>\n",
       "      <td>21.912879</td>\n",
       "    </tr>\n",
       "    <tr>\n",
       "      <th>min</th>\n",
       "      <td>18.000000</td>\n",
       "      <td>3.000000</td>\n",
       "      <td>1.000000</td>\n",
       "    </tr>\n",
       "    <tr>\n",
       "      <th>25%</th>\n",
       "      <td>231.750000</td>\n",
       "      <td>51.000000</td>\n",
       "      <td>3.000000</td>\n",
       "    </tr>\n",
       "    <tr>\n",
       "      <th>50%</th>\n",
       "      <td>530.000000</td>\n",
       "      <td>124.000000</td>\n",
       "      <td>5.000000</td>\n",
       "    </tr>\n",
       "    <tr>\n",
       "      <th>75%</th>\n",
       "      <td>1227.250000</td>\n",
       "      <td>294.000000</td>\n",
       "      <td>10.000000</td>\n",
       "    </tr>\n",
       "    <tr>\n",
       "      <th>max</th>\n",
       "      <td>32258.000000</td>\n",
       "      <td>8863.000000</td>\n",
       "      <td>1163.000000</td>\n",
       "    </tr>\n",
       "  </tbody>\n",
       "</table>\n",
       "</div>"
      ],
      "text/plain": [
       "       num_characters    num_words  num_sentences\n",
       "count     3672.000000  3672.000000    3672.000000\n",
       "mean       977.008170   226.239107       8.634259\n",
       "std       1382.827493   332.179661      21.912879\n",
       "min         18.000000     3.000000       1.000000\n",
       "25%        231.750000    51.000000       3.000000\n",
       "50%        530.000000   124.000000       5.000000\n",
       "75%       1227.250000   294.000000      10.000000\n",
       "max      32258.000000  8863.000000    1163.000000"
      ]
     },
     "execution_count": 66,
     "metadata": {},
     "output_type": "execute_result"
    }
   ],
   "source": [
    "data_eda[data_eda['label'] == 'ham'][['num_characters','num_words','num_sentences']].describe()"
   ]
  },
  {
   "cell_type": "code",
   "execution_count": 67,
   "id": "0b35373d",
   "metadata": {},
   "outputs": [
    {
     "data": {
      "text/html": [
       "<div>\n",
       "<style scoped>\n",
       "    .dataframe tbody tr th:only-of-type {\n",
       "        vertical-align: middle;\n",
       "    }\n",
       "\n",
       "    .dataframe tbody tr th {\n",
       "        vertical-align: top;\n",
       "    }\n",
       "\n",
       "    .dataframe thead th {\n",
       "        text-align: right;\n",
       "    }\n",
       "</style>\n",
       "<table border=\"1\" class=\"dataframe\">\n",
       "  <thead>\n",
       "    <tr style=\"text-align: right;\">\n",
       "      <th></th>\n",
       "      <th>num_characters</th>\n",
       "      <th>num_words</th>\n",
       "      <th>num_sentences</th>\n",
       "    </tr>\n",
       "  </thead>\n",
       "  <tbody>\n",
       "    <tr>\n",
       "      <th>count</th>\n",
       "      <td>1499.000000</td>\n",
       "      <td>1499.000000</td>\n",
       "      <td>1499.000000</td>\n",
       "    </tr>\n",
       "    <tr>\n",
       "      <th>mean</th>\n",
       "      <td>1223.256171</td>\n",
       "      <td>236.387592</td>\n",
       "      <td>13.344229</td>\n",
       "    </tr>\n",
       "    <tr>\n",
       "      <th>std</th>\n",
       "      <td>1825.986210</td>\n",
       "      <td>346.821249</td>\n",
       "      <td>20.724178</td>\n",
       "    </tr>\n",
       "    <tr>\n",
       "      <th>min</th>\n",
       "      <td>11.000000</td>\n",
       "      <td>2.000000</td>\n",
       "      <td>1.000000</td>\n",
       "    </tr>\n",
       "    <tr>\n",
       "      <th>25%</th>\n",
       "      <td>283.000000</td>\n",
       "      <td>55.000000</td>\n",
       "      <td>3.000000</td>\n",
       "    </tr>\n",
       "    <tr>\n",
       "      <th>50%</th>\n",
       "      <td>576.000000</td>\n",
       "      <td>116.000000</td>\n",
       "      <td>7.000000</td>\n",
       "    </tr>\n",
       "    <tr>\n",
       "      <th>75%</th>\n",
       "      <td>1253.500000</td>\n",
       "      <td>244.000000</td>\n",
       "      <td>15.000000</td>\n",
       "    </tr>\n",
       "    <tr>\n",
       "      <th>max</th>\n",
       "      <td>22073.000000</td>\n",
       "      <td>3963.000000</td>\n",
       "      <td>331.000000</td>\n",
       "    </tr>\n",
       "  </tbody>\n",
       "</table>\n",
       "</div>"
      ],
      "text/plain": [
       "       num_characters    num_words  num_sentences\n",
       "count     1499.000000  1499.000000    1499.000000\n",
       "mean      1223.256171   236.387592      13.344229\n",
       "std       1825.986210   346.821249      20.724178\n",
       "min         11.000000     2.000000       1.000000\n",
       "25%        283.000000    55.000000       3.000000\n",
       "50%        576.000000   116.000000       7.000000\n",
       "75%       1253.500000   244.000000      15.000000\n",
       "max      22073.000000  3963.000000     331.000000"
      ]
     },
     "execution_count": 67,
     "metadata": {},
     "output_type": "execute_result"
    }
   ],
   "source": [
    "data_eda[data_eda['label'] == 'spam'][['num_characters','num_words','num_sentences']].describe()"
   ]
  },
  {
   "cell_type": "code",
   "execution_count": 68,
   "id": "46d07eba",
   "metadata": {},
   "outputs": [
    {
     "data": {
      "text/plain": [
       "<Axes: >"
      ]
     },
     "execution_count": 68,
     "metadata": {},
     "output_type": "execute_result"
    },
    {
     "data": {
      "image/png": "[encoded data removed]",
      "text/plain": [
       "<Figure size 640x480 with 2 Axes>"
      ]
     },
     "metadata": {},
     "output_type": "display_data"
    }
   ],
   "source": [
    "sns.heatmap(data_eda.corr(),annot=True)"
   ]
  },
  {
   "cell_type": "code",
   "execution_count": 69,
   "id": "d9558a5d",
   "metadata": {},
   "outputs": [
    {
     "data": {
      "image/png": "[encoded data removed]",
      "text/plain": [
       "<Figure size 600x600 with 1 Axes>"
      ]
     },
     "metadata": {},
     "output_type": "display_data"
    }
   ],
   "source": [
    "spam_count = 1499\n",
    "ham_count = 3672\n",
    "\n",
    "counts = [spam_count, ham_count]\n",
    "labels = ['Spam', 'Ham']\n",
    "\n",
    "plt.figure(figsize=(6, 6))\n",
    "plt.pie(counts, labels=labels, autopct='%1.1f%%', startangle=140)\n",
    "\n",
    "plt.title('Email Classification')\n",
    "plt.show()"
   ]
  },
  {
   "cell_type": "code",
   "execution_count": 70,
   "id": "69dad444",
   "metadata": {},
   "outputs": [],
   "source": [
    "data.to_csv(\"clean.csv\") # storing cleaned data in a csv file"
   ]
  },
  {
   "cell_type": "code",
   "execution_count": 71,
   "id": "83b3504c",
   "metadata": {},
   "outputs": [
    {
     "data": {
      "text/plain": [
       "<5171x50447 sparse matrix of type '<class 'numpy.float64'>'\n",
       "\twith 456145 stored elements in Compressed Sparse Row format>"
      ]
     },
     "execution_count": 71,
     "metadata": {},
     "output_type": "execute_result"
    }
   ],
   "source": [
    "from sklearn.feature_extraction.text import TfidfVectorizer\n",
    "vectorizer = TfidfVectorizer()\n",
    "vectors = vectorizer.fit_transform(data['text'])\n",
    "vectors.shape\n",
    "\n",
    "features = vectors\n",
    "features"
   ]
  },
  {
   "cell_type": "markdown",
   "id": "266a6af7",
   "metadata": {},
   "source": [
    "## Applying ML model"
   ]
  },
  {
   "cell_type": "code",
   "execution_count": 72,
   "id": "9ed58dc4",
   "metadata": {},
   "outputs": [],
   "source": [
    "from sklearn.metrics import classification_report, confusion_matrix, accuracy_score    "
   ]
  },
  {
   "cell_type": "code",
   "execution_count": 73,
   "id": "455ba705",
   "metadata": {},
   "outputs": [],
   "source": [
    "X_train, X_test, y_train, y_test = train_test_split(features, data['label'], test_size=0.15, random_state=111)"
   ]
  },
  {
   "cell_type": "markdown",
   "id": "c6f9a145",
   "metadata": {},
   "source": [
    "### Support Vector Machine"
   ]
  },
  {
   "cell_type": "code",
   "execution_count": 74,
   "id": "3c0a58a4",
   "metadata": {},
   "outputs": [],
   "source": [
    "from sklearn.model_selection import train_test_split\n",
    "from sklearn.svm import SVC\n",
    "\n",
    "from sklearn.svm import SVC\n",
    "from sklearn.metrics import accuracy_score\n",
    "svc = SVC(kernel='sigmoid', gamma=1.0)\n",
    "\n",
    "clfs = {'SVC' : svc}\n",
    "def train(model, features, targets):    \n",
    "    model.fit(features, targets)\n",
    "def predict(model, features):\n",
    "    return (model.predict(features))\n",
    "pred_scores_word_vectors = []\n",
    "for k,v in clfs.items():\n",
    "    train(v, X_train, y_train)\n",
    "    pred_svm = predict(v, X_test)\n",
    "    pred_scores_word_vectors.append((k, [accuracy_score(y_test , pred_svm)]))"
   ]
  },
  {
   "cell_type": "code",
   "execution_count": 75,
   "id": "915f5bb7",
   "metadata": {},
   "outputs": [
    {
     "data": {
      "text/plain": [
       "[('SVC', [0.9832474226804123])]"
      ]
     },
     "execution_count": 75,
     "metadata": {},
     "output_type": "execute_result"
    }
   ],
   "source": [
    "pred_scores_word_vectors"
   ]
  },
  {
   "cell_type": "code",
   "execution_count": 76,
   "id": "7c70de87",
   "metadata": {},
   "outputs": [
    {
     "name": "stdout",
     "output_type": "stream",
     "text": [
      "Classification report\n",
      "              precision    recall  f1-score   support\n",
      "\n",
      "         ham       1.00      0.98      0.99       558\n",
      "        spam       0.95      0.99      0.97       218\n",
      "\n",
      "    accuracy                           0.98       776\n",
      "   macro avg       0.97      0.99      0.98       776\n",
      "weighted avg       0.98      0.98      0.98       776\n",
      "\n",
      "Accuracy score: 0.98325\n"
     ]
    }
   ],
   "source": [
    "from sklearn.metrics import classification_report\n",
    "print(\"Classification report\")\n",
    "print (classification_report(y_test, pred_svm))\n",
    "print(\"Accuracy score: {}\".format(round(accuracy_score(y_test,pred_svm),5)))\n",
    "k2=round(accuracy_score(y_test,pred_svm),5)"
   ]
  },
  {
   "cell_type": "code",
   "execution_count": 77,
   "id": "4ebdb89d",
   "metadata": {},
   "outputs": [
    {
     "data": {
      "image/png": "[encoded data removed]",
      "text/plain": [
       "<Figure size 640x480 with 2 Axes>"
      ]
     },
     "metadata": {},
     "output_type": "display_data"
    }
   ],
   "source": [
    "conf_mat = confusion_matrix(y_test,pred_svm)\n",
    "\n",
    "ax=plt.subplot()\n",
    "\n",
    "sns.heatmap(conf_mat,annot=True,ax=ax,linewidths=5,cmap=\"GnBu\",center=0)\n",
    "\n",
    "ax.set_xlabel('Predicted Labels');ax.set_ylabel('True Labels')\n",
    "\n",
    "ax.set_title('Confusion Matrix for SVM')\n",
    "ax.xaxis.set_ticklabels(['not spam','spam'])\n",
    "ax.yaxis.set_ticklabels(['not spam','spam'])\n",
    "plt.show()"
   ]
  },
  {
   "cell_type": "markdown",
   "id": "37bd068c",
   "metadata": {},
   "source": [
    "## Extending the above classification model to a real world scenario:\n",
    "To address the issue of important emails being wrongly marked as spam, which can lead to missed job offers, important messages, event updates, and more, a real gmail account is conected and the incoming emails are classified as spam or ham to improve the accuracy."
   ]
  },
  {
   "cell_type": "code",
   "execution_count": 80,
   "id": "c17ad2d7",
   "metadata": {},
   "outputs": [],
   "source": [
    "import pickle\n",
    "with open('class_model.pkl', 'wb') as model_file:\n",
    "    pickle.dump(svc, model_file)"
   ]
  },
  {
   "cell_type": "markdown",
   "id": "384ab060",
   "metadata": {},
   "source": [
    "#### We use the 'imapclient' library to connect to GMAIL'S IMAP server and fetch data from the INBOX folder."
   ]
  },
  {
   "cell_type": "code",
   "execution_count": 81,
   "id": "0487ae19",
   "metadata": {},
   "outputs": [
    {
     "name": "stdout",
     "output_type": "stream",
     "text": [
      "                                             Subject Body\n",
      "0     Sam, finish setting up your new Google Account     \n",
      "1       Important update about Google Photos storage     \n",
      "2                                     Security alert     \n",
      "3  Sam, take the next step on your Windows by con...     \n",
      "4  =?UTF-8?Q?Share_request_for_=E2=80=98Copy_of_S...     \n"
     ]
    }
   ],
   "source": [
    "import imapclient\n",
    "import email\n",
    "\n",
    "# Create an empty list to store email data\n",
    "email_data_list = []\n",
    "\n",
    "# Connect to Gmail's IMAP server\n",
    "try:\n",
    "    imap_server = imapclient.IMAPClient('imap.gmail.com', ssl=True)\n",
    "    imap_server.login('sammzz2003@gmail.com', 'qtbjqwyhbxsgprih')\n",
    "    \n",
    "    # Select the INBOX folder in readonly mode\n",
    "    imap_server.select_folder('INBOX', readonly=True)\n",
    "    \n",
    "    # Search for all emails (seen and unseen)\n",
    "    all_email_ids = imap_server.search('ALL')\n",
    "    \n",
    "    for email_id in all_email_ids:\n",
    "        email_data = imap_server.fetch([email_id], ['BODY[]'])\n",
    "        \n",
    "        # Extract and decode email content\n",
    "        raw_email = email_data[email_id][b'BODY[]']\n",
    "        msg = email.message_from_bytes(raw_email)\n",
    "        \n",
    "        # Get the subject and body\n",
    "        subject = msg['Subject']\n",
    "        body = \"\"\n",
    "        \n",
    "        # Append the email data to the list\n",
    "        email_data_list.append({\"Subject\": subject, \"Body\": body})\n",
    "    \n",
    "    imap_server.logout()\n",
    "except Exception as e:\n",
    "    print(f\"An error occurred: {str(e)}\")\n",
    "\n",
    "# Create a DataFrame from the list of dictionaries\n",
    "email_df = pd.DataFrame(email_data_list)\n",
    "\n",
    "# Display the DataFrame\n",
    "print(email_df.head())"
   ]
  },
  {
   "cell_type": "code",
   "execution_count": 82,
   "id": "c9a2ae6e",
   "metadata": {},
   "outputs": [
    {
     "name": "stdout",
     "output_type": "stream",
     "text": [
      "                                             Subject Body\n",
      "0              sam finish setting new google account     \n",
      "1              important update google photo storage     \n",
      "2                                     security alert     \n",
      "3  sam take next step window confirming google ac...     \n",
      "4  utf-8 q share_request_for_=e2=80=98copy_of_sub...     \n"
     ]
    },
    {
     "name": "stderr",
     "output_type": "stream",
     "text": [
      "[nltk_data] Downloading package stopwords to\n",
      "[nltk_data]     C:\\Users\\samyu\\AppData\\Roaming\\nltk_data...\n",
      "[nltk_data]   Package stopwords is already up-to-date!\n",
      "[nltk_data] Downloading package wordnet to\n",
      "[nltk_data]     C:\\Users\\samyu\\AppData\\Roaming\\nltk_data...\n",
      "[nltk_data]   Package wordnet is already up-to-date!\n"
     ]
    }
   ],
   "source": [
    "import nltk\n",
    "from nltk.corpus import stopwords\n",
    "from nltk.tokenize import word_tokenize\n",
    "from nltk.stem import WordNetLemmatizer\n",
    "import string\n",
    "\n",
    "# Download NLTK resources (stopwords and lemmatizer data) if not already downloaded\n",
    "nltk.download('stopwords')\n",
    "nltk.download('wordnet')\n",
    "\n",
    "# Initialize NLTK's lemmatizer and stopwords\n",
    "lemmatizer = WordNetLemmatizer()\n",
    "stop_words = set(stopwords.words('english'))\n",
    "\n",
    "\n",
    "# Preprocessing function for a single text\n",
    "def preprocess_text(text):\n",
    "    # Convert to lowercase\n",
    "    text = text.lower()\n",
    "    \n",
    "    # Tokenize text\n",
    "    tokens = word_tokenize(text)\n",
    "    \n",
    "    # Remove stopwords and punctuation, and perform lemmatization\n",
    "    tokens = [lemmatizer.lemmatize(token) for token in tokens if token not in stop_words and token not in string.punctuation]\n",
    "    \n",
    "    # Join tokens back into a single string\n",
    "    return ' '.join(tokens)\n",
    "\n",
    "# Apply preprocessing to the \"Subject\" and \"Body\" columns\n",
    "email_df['Subject'] = email_df['Subject'].apply(preprocess_text)\n",
    "email_df['Body'] = email_df['Body'].apply(preprocess_text)\n",
    "\n",
    "# Display the preprocessed DataFrame\n",
    "print(email_df.head())\n"
   ]
  },
  {
   "cell_type": "code",
   "execution_count": 83,
   "id": "4e53e3d5",
   "metadata": {},
   "outputs": [
    {
     "data": {
      "text/plain": [
       "(957, 2)"
      ]
     },
     "execution_count": 83,
     "metadata": {},
     "output_type": "execute_result"
    }
   ],
   "source": [
    "email_df.shape"
   ]
  },
  {
   "cell_type": "code",
   "execution_count": 84,
   "id": "d476fb8e",
   "metadata": {},
   "outputs": [],
   "source": [
    "# Combine \"Subject\" and \"Body\" columns into a single text column\n",
    "email_df['Combined_Text'] = email_df['Subject'] + ' ' + email_df['Body']\n",
    "\n",
    "new_tfidf_matrix = vectorizer.transform(email_df['Combined_Text'])\n"
   ]
  },
  {
   "cell_type": "code",
   "execution_count": 85,
   "id": "49350846",
   "metadata": {},
   "outputs": [],
   "source": [
    "import pickle\n",
    "with open('class_model.pkl', 'rb') as model_file:\n",
    "    spam_model = pickle.load(model_file)"
   ]
  },
  {
   "cell_type": "code",
   "execution_count": 86,
   "id": "75c4fc92",
   "metadata": {},
   "outputs": [],
   "source": [
    "predictions = svc.predict(new_tfidf_matrix)"
   ]
  },
  {
   "cell_type": "code",
   "execution_count": 87,
   "id": "1f9cea1d",
   "metadata": {},
   "outputs": [
    {
     "data": {
      "text/html": [
       "<div>\n",
       "<style scoped>\n",
       "    .dataframe tbody tr th:only-of-type {\n",
       "        vertical-align: middle;\n",
       "    }\n",
       "\n",
       "    .dataframe tbody tr th {\n",
       "        vertical-align: top;\n",
       "    }\n",
       "\n",
       "    .dataframe thead th {\n",
       "        text-align: right;\n",
       "    }\n",
       "</style>\n",
       "<table border=\"1\" class=\"dataframe\">\n",
       "  <thead>\n",
       "    <tr style=\"text-align: right;\">\n",
       "      <th></th>\n",
       "      <th>Subject</th>\n",
       "      <th>Body</th>\n",
       "      <th>Combined_Text</th>\n",
       "      <th>Predicted_Label</th>\n",
       "    </tr>\n",
       "  </thead>\n",
       "  <tbody>\n",
       "    <tr>\n",
       "      <th>0</th>\n",
       "      <td>sam finish setting new google account</td>\n",
       "      <td></td>\n",
       "      <td>sam finish setting new google account</td>\n",
       "      <td>spam</td>\n",
       "    </tr>\n",
       "    <tr>\n",
       "      <th>1</th>\n",
       "      <td>important update google photo storage</td>\n",
       "      <td></td>\n",
       "      <td>important update google photo storage</td>\n",
       "      <td>spam</td>\n",
       "    </tr>\n",
       "    <tr>\n",
       "      <th>2</th>\n",
       "      <td>security alert</td>\n",
       "      <td></td>\n",
       "      <td>security alert</td>\n",
       "      <td>spam</td>\n",
       "    </tr>\n",
       "    <tr>\n",
       "      <th>3</th>\n",
       "      <td>sam take next step window confirming google ac...</td>\n",
       "      <td></td>\n",
       "      <td>sam take next step window confirming google ac...</td>\n",
       "      <td>spam</td>\n",
       "    </tr>\n",
       "    <tr>\n",
       "      <th>4</th>\n",
       "      <td>utf-8 q share_request_for_=e2=80=98copy_of_sub...</td>\n",
       "      <td></td>\n",
       "      <td>utf-8 q share_request_for_=e2=80=98copy_of_sub...</td>\n",
       "      <td>spam</td>\n",
       "    </tr>\n",
       "  </tbody>\n",
       "</table>\n",
       "</div>"
      ],
      "text/plain": [
       "                                             Subject Body  \\\n",
       "0              sam finish setting new google account        \n",
       "1              important update google photo storage        \n",
       "2                                     security alert        \n",
       "3  sam take next step window confirming google ac...        \n",
       "4  utf-8 q share_request_for_=e2=80=98copy_of_sub...        \n",
       "\n",
       "                                       Combined_Text Predicted_Label  \n",
       "0             sam finish setting new google account             spam  \n",
       "1             important update google photo storage             spam  \n",
       "2                                    security alert             spam  \n",
       "3  sam take next step window confirming google ac...            spam  \n",
       "4  utf-8 q share_request_for_=e2=80=98copy_of_sub...            spam  "
      ]
     },
     "execution_count": 87,
     "metadata": {},
     "output_type": "execute_result"
    }
   ],
   "source": [
    "email_df['Predicted_Label'] = predictions\n",
    "#email_df[email_df[\"Predicted_Label\"]==\"ham\"]\n",
    "email_df.head()"
   ]
  },
  {
   "cell_type": "markdown",
   "id": "51d18f67",
   "metadata": {},
   "source": [
    "#### The script updates the dataset with new emails every time it is executed. The incoming emails are iteratively classified as either spam or ham through a learning process."
   ]
  },
  {
   "cell_type": "code",
   "execution_count": null,
   "id": "ffb972ec",
   "metadata": {},
   "outputs": [],
   "source": []
  }
 ],
 "metadata": {
  "kernelspec": {
   "display_name": "Python 3 (ipykernel)",
   "language": "python",
   "name": "python3"
  },
  "language_info": {
   "codemirror_mode": {
    "name": "ipython",
    "version": 3
   },
   "file_extension": ".py",
   "mimetype": "text/x-python",
   "name": "python",
   "nbconvert_exporter": "python",
   "pygments_lexer": "ipython3",
   "version": "3.9.12"
  }
 },
 "nbformat": 4,
 "nbformat_minor": 5
}
